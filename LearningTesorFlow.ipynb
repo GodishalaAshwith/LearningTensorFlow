{
 "cells": [
  {
   "cell_type": "code",
   "execution_count": 5,
   "id": "764b309e",
   "metadata": {},
   "outputs": [
    {
     "data": {
      "text/plain": [
       "True"
      ]
     },
     "execution_count": 5,
     "metadata": {},
     "output_type": "execute_result"
    }
   ],
   "source": [
    "from dotenv import load_dotenv\n",
    "load_dotenv() "
   ]
  },
  {
   "cell_type": "code",
   "execution_count": null,
   "id": "0aaeb0e7",
   "metadata": {},
   "outputs": [],
   "source": [
    "import tensorflow as tf"
   ]
  },
  {
   "cell_type": "code",
   "execution_count": 10,
   "id": "81e54fde",
   "metadata": {},
   "outputs": [],
   "source": [
    "#Constants\n",
    "scalar = tf.constant(5)\n",
    "vector = tf.constant([1, 2, 3])\n",
    "matrix = tf.constant([[1, 2, 3], [4, 5, 6]])\n",
    "\n",
    "#Variables\n",
    "variable = tf.Variable([[1.0, 2.0], [3.0, 4.0]])\n",
    "\n",
    "#Random Values\n",
    "random_tensor = tf.random.uniform(shape=(2, 3), minval=0, maxval=10, dtype=tf.int32)"
   ]
  },
  {
   "cell_type": "code",
   "execution_count": 11,
   "id": "9b967a42",
   "metadata": {},
   "outputs": [
    {
     "name": "stdout",
     "output_type": "stream",
     "text": [
      "Tensor:\n",
      " tf.Tensor(\n",
      "[[1 2 3]\n",
      " [4 5 6]], shape=(2, 3), dtype=int32)\n",
      "Shape: (2, 3)\n",
      "Data Type: <dtype: 'int32'>\n",
      "Rank: 2\n"
     ]
    }
   ],
   "source": [
    "# Creating a 2x3 matrix tensor\n",
    "matrix = tf.constant([[1, 2, 3], [4, 5, 6]])\n",
    "\n",
    "print(\"Tensor:\\n\", matrix)\n",
    "print(\"Shape:\", matrix.shape)\n",
    "print(\"Data Type:\", matrix.dtype)\n",
    "print(\"Rank:\", tf.rank(matrix).numpy())"
   ]
  },
  {
   "cell_type": "code",
   "execution_count": null,
   "id": "da09be83",
   "metadata": {},
   "outputs": [],
   "source": []
  }
 ],
 "metadata": {
  "kernelspec": {
   "display_name": "tensorflow_env",
   "language": "python",
   "name": "python3"
  },
  "language_info": {
   "codemirror_mode": {
    "name": "ipython",
    "version": 3
   },
   "file_extension": ".py",
   "mimetype": "text/x-python",
   "name": "python",
   "nbconvert_exporter": "python",
   "pygments_lexer": "ipython3",
   "version": "3.12.5"
  }
 },
 "nbformat": 4,
 "nbformat_minor": 5
}
