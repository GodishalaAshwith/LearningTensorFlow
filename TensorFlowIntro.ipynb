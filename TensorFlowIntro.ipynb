{
  "nbformat": 4,
  "nbformat_minor": 0,
  "metadata": {
    "colab": {
      "provenance": [],
      "collapsed_sections": [
        "72txCKV27G1t",
        "Aj1MvTY37G0c",
        "O01-NnMr3T0d",
        "3b5d0Ybk3fqM",
        "yC6oH8RS3x2l",
        "ToUGVNtJ5Gdx"
      ],
      "authorship_tag": "ABX9TyP6hAd69sO+8qOKjkKNrCol",
      "include_colab_link": true
    },
    "kernelspec": {
      "name": "python3",
      "display_name": "Python 3"
    },
    "language_info": {
      "name": "python"
    }
  },
  "cells": [
    {
      "cell_type": "markdown",
      "metadata": {
        "id": "view-in-github",
        "colab_type": "text"
      },
      "source": [
        "<a href=\"https://colab.research.google.com/github/GodishalaAshwith/LearningTensorFlow/blob/main/TensorFlowIntro.ipynb\" target=\"_parent\"><img src=\"https://colab.research.google.com/assets/colab-badge.svg\" alt=\"Open In Colab\"/></a>"
      ]
    },
    {
      "cell_type": "code",
      "execution_count": null,
      "metadata": {
        "id": "nuTh4f0s63wX"
      },
      "outputs": [],
      "source": [
        "import tensorflow as tf"
      ]
    },
    {
      "cell_type": "markdown",
      "source": [
        "##Basics"
      ],
      "metadata": {
        "id": "72txCKV27G1t"
      }
    },
    {
      "cell_type": "markdown",
      "source": [
        "### Creating a Tensor"
      ],
      "metadata": {
        "id": "Aj1MvTY37G0c"
      }
    },
    {
      "cell_type": "code",
      "source": [
        "#Constants\n",
        "scalar = tf.constant(5)\n",
        "vector = tf.constant([1, 2, 3])\n",
        "matrix = tf.constant([[1, 2, 3], [4, 5, 6]])\n",
        "\n",
        "#Variables\n",
        "variable = tf.Variable([[1.0, 2.0], [3.0, 4.0]])\n",
        "\n",
        "#Random Values\n",
        "random_tensor = tf.random.uniform(shape=(2, 3), minval=0, maxval=10, dtype=tf.int32)"
      ],
      "metadata": {
        "id": "f8jJqxxB69cy"
      },
      "execution_count": null,
      "outputs": []
    },
    {
      "cell_type": "code",
      "source": [
        "# Creating a 2x3 matrix tensor\n",
        "matrix = tf.constant([[1, 2, 3], [4, 5, 6]])\n",
        "\n",
        "print(\"Tensor:\\n\", matrix)\n",
        "print(\"Shape:\", matrix.shape)\n",
        "print(\"Data Type:\", matrix.dtype)\n",
        "print(\"Rank:\", tf.rank(matrix).numpy())"
      ],
      "metadata": {
        "colab": {
          "base_uri": "https://localhost:8080/"
        },
        "id": "Pp4UnsIF7TaM",
        "outputId": "dc3c1eb8-973e-431d-9b42-c3e9373df4dc"
      },
      "execution_count": null,
      "outputs": [
        {
          "output_type": "stream",
          "name": "stdout",
          "text": [
            "Tensor:\n",
            " tf.Tensor(\n",
            "[[1 2 3]\n",
            " [4 5 6]], shape=(2, 3), dtype=int32)\n",
            "Shape: (2, 3)\n",
            "Data Type: <dtype: 'int32'>\n",
            "Rank: 2\n"
          ]
        }
      ]
    },
    {
      "cell_type": "markdown",
      "source": [
        "### Manipulating Tensor Shapes"
      ],
      "metadata": {
        "id": "O01-NnMr3T0d"
      }
    },
    {
      "cell_type": "code",
      "metadata": {
        "colab": {
          "base_uri": "https://localhost:8080/"
        },
        "id": "1328cc07",
        "outputId": "853cf0f8-bbce-4906-efb3-c91f6398e867"
      },
      "source": [
        "matrix = tf.constant([[1, 2, 3], [4, 5, 6]])\n",
        "print(\"Original tensor:\\n\", matrix)\n",
        "\n",
        "# Reshape\n",
        "reshaped = tf.reshape(matrix, shape=(3, 2))\n",
        "print(\"\\nReshaped tensor (3x2):\\n\", reshaped)\n",
        "\n",
        "# Expand Dimensions\n",
        "expanded = tf.expand_dims(matrix, axis=0)\n",
        "print(\"\\nExpanded tensor (added axis at the beginning):\\n\", expanded)\n",
        "\n",
        "# Squeeze Dimensions (demonstrate with a tensor that has a dimension of size 1)\n",
        "single_dim_tensor = tf.constant([[[1], [2], [3]]])\n",
        "print(\"\\nOriginal tensor with single dimension:\\n\", single_dim_tensor)\n",
        "squeezed = tf.squeeze(single_dim_tensor, axis=2)\n",
        "print(\"\\nSqueezed tensor (removed axis of size 1):\\n\", squeezed)\n",
        "\n",
        "# Transpose\n",
        "transposed = tf.transpose(matrix, perm=[1, 0]) # Transposing a 2x3 matrix results in a 3x2 matrix\n",
        "print(\"\\nTransposed tensor:\\n\", transposed)"
      ],
      "execution_count": null,
      "outputs": [
        {
          "output_type": "stream",
          "name": "stdout",
          "text": [
            "Original tensor:\n",
            " tf.Tensor(\n",
            "[[1 2 3]\n",
            " [4 5 6]], shape=(2, 3), dtype=int32)\n",
            "\n",
            "Reshaped tensor (3x2):\n",
            " tf.Tensor(\n",
            "[[1 2]\n",
            " [3 4]\n",
            " [5 6]], shape=(3, 2), dtype=int32)\n",
            "\n",
            "Expanded tensor (added axis at the beginning):\n",
            " tf.Tensor(\n",
            "[[[1 2 3]\n",
            "  [4 5 6]]], shape=(1, 2, 3), dtype=int32)\n",
            "\n",
            "Original tensor with single dimension:\n",
            " tf.Tensor(\n",
            "[[[1]\n",
            "  [2]\n",
            "  [3]]], shape=(1, 3, 1), dtype=int32)\n",
            "\n",
            "Squeezed tensor (removed axis of size 1):\n",
            " tf.Tensor([[1 2 3]], shape=(1, 3), dtype=int32)\n",
            "\n",
            "Transposed tensor:\n",
            " tf.Tensor(\n",
            "[[1 4]\n",
            " [2 5]\n",
            " [3 6]], shape=(3, 2), dtype=int32)\n"
          ]
        }
      ]
    },
    {
      "cell_type": "markdown",
      "source": [
        "###Specifying Datatype"
      ],
      "metadata": {
        "id": "3b5d0Ybk3fqM"
      }
    },
    {
      "cell_type": "code",
      "source": [
        "import tensorflow as tf\n",
        "\n",
        "# Creating a tensor with a specific data type\n",
        "float_tensor = tf.constant([1.0, 2.0, 3.0], dtype=tf.float32)\n",
        "int_tensor = tf.constant([1, 2, 3], dtype=tf.int32)\n",
        "bool_tensor = tf.constant([True, False, True], dtype=tf.bool)"
      ],
      "metadata": {
        "id": "hzH5ew3Q3iBU"
      },
      "execution_count": null,
      "outputs": []
    },
    {
      "cell_type": "markdown",
      "source": [
        "###Type Casting"
      ],
      "metadata": {
        "id": "yC6oH8RS3x2l"
      }
    },
    {
      "cell_type": "code",
      "source": [
        "# Casting float tensor to int tensor\n",
        "print(float_tensor)\n",
        "casted_tensor = tf.cast(float_tensor, dtype=tf.int32)\n",
        "print(casted_tensor)"
      ],
      "metadata": {
        "colab": {
          "base_uri": "https://localhost:8080/"
        },
        "id": "AqztfBc_3jve",
        "outputId": "8ce240f0-14af-42c9-d5da-590893e6e51a"
      },
      "execution_count": null,
      "outputs": [
        {
          "output_type": "stream",
          "name": "stdout",
          "text": [
            "tf.Tensor([1. 2. 3.], shape=(3,), dtype=float32)\n",
            "tf.Tensor([1 2 3], shape=(3,), dtype=int32)\n"
          ]
        }
      ]
    },
    {
      "cell_type": "markdown",
      "source": [
        "### Next"
      ],
      "metadata": {
        "id": "ToUGVNtJ5Gdx"
      }
    },
    {
      "cell_type": "code",
      "source": [],
      "metadata": {
        "id": "uklO_M8x3sls"
      },
      "execution_count": null,
      "outputs": []
    }
  ]
}