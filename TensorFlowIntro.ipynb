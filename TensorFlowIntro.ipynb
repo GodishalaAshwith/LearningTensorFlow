{
  "nbformat": 4,
  "nbformat_minor": 0,
  "metadata": {
    "colab": {
      "provenance": [],
      "collapsed_sections": [
        "72txCKV27G1t",
        "Aj1MvTY37G0c",
        "O01-NnMr3T0d",
        "3b5d0Ybk3fqM",
        "yC6oH8RS3x2l",
        "ToUGVNtJ5Gdx"
      ],
      "authorship_tag": "ABX9TyNYQq1B3fBkaF6P1JqnKDPU",
      "include_colab_link": true
    },
    "kernelspec": {
      "name": "python3",
      "display_name": "Python 3"
    },
    "language_info": {
      "name": "python"
    }
  },
  "cells": [
    {
      "cell_type": "markdown",
      "metadata": {
        "id": "view-in-github",
        "colab_type": "text"
      },
      "source": [
        "<a href=\"https://colab.research.google.com/github/GodishalaAshwith/LearningTensorFlow/blob/main/TensorFlowIntro.ipynb\" target=\"_parent\"><img src=\"https://colab.research.google.com/assets/colab-badge.svg\" alt=\"Open In Colab\"/></a>"
      ]
    },
    {
      "cell_type": "code",
      "execution_count": null,
      "metadata": {
        "id": "nuTh4f0s63wX"
      },
      "outputs": [],
      "source": [
        "import tensorflow as tf"
      ]
    },
    {
      "cell_type": "markdown",
      "source": [
        "##Basics"
      ],
      "metadata": {
        "id": "72txCKV27G1t"
      }
    },
    {
      "cell_type": "markdown",
      "source": [
        "### Creating a Tensor"
      ],
      "metadata": {
        "id": "Aj1MvTY37G0c"
      }
    },
    {
      "cell_type": "code",
      "source": [
        "#Constants\n",
        "scalar = tf.constant(5)\n",
        "vector = tf.constant([1, 2, 3])\n",
        "matrix = tf.constant([[1, 2, 3], [4, 5, 6]])\n",
        "\n",
        "#Variables\n",
        "variable = tf.Variable([[1.0, 2.0], [3.0, 4.0]])\n",
        "\n",
        "#Random Values\n",
        "random_tensor = tf.random.uniform(shape=(2, 3), minval=0, maxval=10, dtype=tf.int32)"
      ],
      "metadata": {
        "id": "f8jJqxxB69cy"
      },
      "execution_count": null,
      "outputs": []
    },
    {
      "cell_type": "code",
      "source": [
        "# Creating a 2x3 matrix tensor\n",
        "matrix = tf.constant([[1, 2, 3], [4, 5, 6]])\n",
        "\n",
        "print(\"Tensor:\\n\", matrix)\n",
        "print(\"Shape:\", matrix.shape)\n",
        "print(\"Data Type:\", matrix.dtype)\n",
        "print(\"Rank:\", tf.rank(matrix).numpy())"
      ],
      "metadata": {
        "colab": {
          "base_uri": "https://localhost:8080/"
        },
        "id": "Pp4UnsIF7TaM",
        "outputId": "dc3c1eb8-973e-431d-9b42-c3e9373df4dc"
      },
      "execution_count": null,
      "outputs": [
        {
          "output_type": "stream",
          "name": "stdout",
          "text": [
            "Tensor:\n",
            " tf.Tensor(\n",
            "[[1 2 3]\n",
            " [4 5 6]], shape=(2, 3), dtype=int32)\n",
            "Shape: (2, 3)\n",
            "Data Type: <dtype: 'int32'>\n",
            "Rank: 2\n"
          ]
        }
      ]
    },
    {
      "cell_type": "markdown",
      "source": [
        "### Manipulating Tensor Shapes"
      ],
      "metadata": {
        "id": "O01-NnMr3T0d"
      }
    },
    {
      "cell_type": "code",
      "metadata": {
        "colab": {
          "base_uri": "https://localhost:8080/"
        },
        "id": "1328cc07",
        "outputId": "853cf0f8-bbce-4906-efb3-c91f6398e867"
      },
      "source": [
        "matrix = tf.constant([[1, 2, 3], [4, 5, 6]])\n",
        "print(\"Original tensor:\\n\", matrix)\n",
        "\n",
        "# Reshape\n",
        "reshaped = tf.reshape(matrix, shape=(3, 2))\n",
        "print(\"\\nReshaped tensor (3x2):\\n\", reshaped)\n",
        "\n",
        "# Expand Dimensions\n",
        "expanded = tf.expand_dims(matrix, axis=0)\n",
        "print(\"\\nExpanded tensor (added axis at the beginning):\\n\", expanded)\n",
        "\n",
        "# Squeeze Dimensions (demonstrate with a tensor that has a dimension of size 1)\n",
        "single_dim_tensor = tf.constant([[[1], [2], [3]]])\n",
        "print(\"\\nOriginal tensor with single dimension:\\n\", single_dim_tensor)\n",
        "squeezed = tf.squeeze(single_dim_tensor, axis=2)\n",
        "print(\"\\nSqueezed tensor (removed axis of size 1):\\n\", squeezed)\n",
        "\n",
        "# Transpose\n",
        "transposed = tf.transpose(matrix, perm=[1, 0]) # Transposing a 2x3 matrix results in a 3x2 matrix\n",
        "print(\"\\nTransposed tensor:\\n\", transposed)"
      ],
      "execution_count": null,
      "outputs": [
        {
          "output_type": "stream",
          "name": "stdout",
          "text": [
            "Original tensor:\n",
            " tf.Tensor(\n",
            "[[1 2 3]\n",
            " [4 5 6]], shape=(2, 3), dtype=int32)\n",
            "\n",
            "Reshaped tensor (3x2):\n",
            " tf.Tensor(\n",
            "[[1 2]\n",
            " [3 4]\n",
            " [5 6]], shape=(3, 2), dtype=int32)\n",
            "\n",
            "Expanded tensor (added axis at the beginning):\n",
            " tf.Tensor(\n",
            "[[[1 2 3]\n",
            "  [4 5 6]]], shape=(1, 2, 3), dtype=int32)\n",
            "\n",
            "Original tensor with single dimension:\n",
            " tf.Tensor(\n",
            "[[[1]\n",
            "  [2]\n",
            "  [3]]], shape=(1, 3, 1), dtype=int32)\n",
            "\n",
            "Squeezed tensor (removed axis of size 1):\n",
            " tf.Tensor([[1 2 3]], shape=(1, 3), dtype=int32)\n",
            "\n",
            "Transposed tensor:\n",
            " tf.Tensor(\n",
            "[[1 4]\n",
            " [2 5]\n",
            " [3 6]], shape=(3, 2), dtype=int32)\n"
          ]
        }
      ]
    },
    {
      "cell_type": "markdown",
      "source": [
        "###Specifying Datatype"
      ],
      "metadata": {
        "id": "3b5d0Ybk3fqM"
      }
    },
    {
      "cell_type": "code",
      "source": [
        "import tensorflow as tf\n",
        "\n",
        "# Creating a tensor with a specific data type\n",
        "float_tensor = tf.constant([1.0, 2.0, 3.0], dtype=tf.float32)\n",
        "int_tensor = tf.constant([1, 2, 3], dtype=tf.int32)\n",
        "bool_tensor = tf.constant([True, False, True], dtype=tf.bool)"
      ],
      "metadata": {
        "id": "hzH5ew3Q3iBU"
      },
      "execution_count": null,
      "outputs": []
    },
    {
      "cell_type": "markdown",
      "source": [
        "###Type Casting"
      ],
      "metadata": {
        "id": "yC6oH8RS3x2l"
      }
    },
    {
      "cell_type": "code",
      "source": [
        "# Casting float tensor to int tensor\n",
        "print(float_tensor)\n",
        "casted_tensor = tf.cast(float_tensor, dtype=tf.int32)\n",
        "print(casted_tensor)"
      ],
      "metadata": {
        "colab": {
          "base_uri": "https://localhost:8080/"
        },
        "id": "AqztfBc_3jve",
        "outputId": "8ce240f0-14af-42c9-d5da-590893e6e51a"
      },
      "execution_count": null,
      "outputs": [
        {
          "output_type": "stream",
          "name": "stdout",
          "text": [
            "tf.Tensor([1. 2. 3.], shape=(3,), dtype=float32)\n",
            "tf.Tensor([1 2 3], shape=(3,), dtype=int32)\n"
          ]
        }
      ]
    },
    {
      "cell_type": "markdown",
      "source": [
        "## Basic Tensor Operations"
      ],
      "metadata": {
        "id": "ToUGVNtJ5Gdx"
      }
    },
    {
      "cell_type": "markdown",
      "source": [
        "###Element Wise Operations"
      ],
      "metadata": {
        "id": "LAgGaXGAbZzc"
      }
    },
    {
      "cell_type": "code",
      "source": [
        "a = tf.constant([1,2,3])\n",
        "b = tf.constant([4,5,6])\n",
        "\n",
        "#Addition\n",
        "c = tf.add(a,b) # or c = a + b\n",
        "print(\"Addition:\",c.numpy())\n",
        "\n",
        "c = tf.subtract(a,b) # or c = a - b\n",
        "print(\"Subtraction:\",c.numpy())\n",
        "\n",
        "c = tf.multiply(a,b) # or c = a * b\n",
        "print(\"Multiplication:\",c.numpy())\n",
        "\n",
        "c = tf.divide(b,a) # or c = b / a\n",
        "print(\"Division:\",c.numpy())"
      ],
      "metadata": {
        "id": "uklO_M8x3sls",
        "colab": {
          "base_uri": "https://localhost:8080/"
        },
        "outputId": "64ae96fd-fc49-4d89-f81e-7abca97f07cf"
      },
      "execution_count": null,
      "outputs": [
        {
          "output_type": "stream",
          "name": "stdout",
          "text": [
            "Addition: [5 7 9]\n",
            "Subtraction: [-3 -3 -3]\n",
            "Multiplication: [ 4 10 18]\n",
            "Division: [4.  2.5 2. ]\n"
          ]
        }
      ]
    },
    {
      "cell_type": "markdown",
      "source": [
        "###Matrix Operations"
      ],
      "metadata": {
        "id": "F8yl6vrJcwh0"
      }
    },
    {
      "cell_type": "code",
      "source": [
        "m1 = tf.constant([[1,2],[3,4]])\n",
        "m2 = tf.constant([[5,6],[7,8]])\n",
        "\n",
        "#Matrix multiplication\n",
        "prod = tf.matmul(m1,m2)\n",
        "print(f\"Matrix Multiplication: {prod}\")\n",
        "\n",
        "#Transpose of a Matrix\n",
        "t = tf.transpose(m1)\n",
        "print(f\"Transpose of Matrix: {t}\")"
      ],
      "metadata": {
        "colab": {
          "base_uri": "https://localhost:8080/"
        },
        "id": "YeOThKUsbh8z",
        "outputId": "5065ef2c-2575-4bb5-d9df-9e24b822b304"
      },
      "execution_count": null,
      "outputs": [
        {
          "output_type": "stream",
          "name": "stdout",
          "text": [
            "Matrix Multiplication: [[19 22]\n",
            " [43 50]]\n",
            "Transpose of Matrix: [[1 3]\n",
            " [2 4]]\n"
          ]
        }
      ]
    },
    {
      "cell_type": "markdown",
      "source": [
        "###Slicing and Indexing"
      ],
      "metadata": {
        "id": "xLjUWWJidqTp"
      }
    },
    {
      "cell_type": "code",
      "source": [
        "# Creating a 3-D tensor\n",
        "tensor = tf.constant([\n",
        "    [[1, 2], [3, 4]],\n",
        "    [[5, 6], [7, 8]],\n",
        "    [[9, 10], [11, 12]]\n",
        "])\n",
        "\n",
        "# Slicing the first two matrices\n",
        "sliced = tensor[:2]\n",
        "print(\"Sliced Tensor:\\n\", sliced.numpy())\n",
        "\n",
        "# Accessing a specific element\n",
        "element = tensor[1, 1, 1]\n",
        "print(\"Specific Element:\", element.numpy())  # Output: 8"
      ],
      "metadata": {
        "colab": {
          "base_uri": "https://localhost:8080/"
        },
        "id": "aOK8461rdseF",
        "outputId": "3b00e15e-fc9c-47c7-d6cd-939c9b8a0446"
      },
      "execution_count": null,
      "outputs": [
        {
          "output_type": "stream",
          "name": "stdout",
          "text": [
            "Sliced Tensor:\n",
            " [[[1 2]\n",
            "  [3 4]]\n",
            "\n",
            " [[5 6]\n",
            "  [7 8]]]\n",
            "Specific Element: 8\n"
          ]
        }
      ]
    },
    {
      "cell_type": "markdown",
      "source": [
        "###Broadcasting"
      ],
      "metadata": {
        "id": "wZGA_2X-goUn"
      }
    },
    {
      "cell_type": "code",
      "source": [
        "# Tensor A of shape (3, 1)\n",
        "A = tf.constant([[1], [2], [3]])\n",
        "\n",
        "# Tensor B of shape (1, 4)\n",
        "B = tf.constant([[10, 20, 30, 40]])\n",
        "\n",
        "# Broadcasting to shape (3, 4)\n",
        "C = A + B\n",
        "print(\"Broadcasted Tensor:\\n\", C.numpy())"
      ],
      "metadata": {
        "colab": {
          "base_uri": "https://localhost:8080/"
        },
        "id": "6YoCV92wgsPw",
        "outputId": "2244fa2f-1603-46ce-aaf4-733341135525"
      },
      "execution_count": null,
      "outputs": [
        {
          "output_type": "stream",
          "name": "stdout",
          "text": [
            "Broadcasted Tensor:\n",
            " [[11 21 31 41]\n",
            " [12 22 32 42]\n",
            " [13 23 33 43]]\n"
          ]
        }
      ]
    },
    {
      "cell_type": "markdown",
      "source": [
        "###Reduction Operations"
      ],
      "metadata": {
        "id": "u-6rTnpdgwO-"
      }
    },
    {
      "cell_type": "code",
      "source": [
        "tensor = tf.constant([[1, 2], [3, 4]])\n",
        "\n",
        "#Sum\n",
        "sum_all = tf.reduce_sum(tensor)           # 10\n",
        "sum_axis0 = tf.reduce_sum(tensor, axis=0) # [4, 6]\n",
        "sum_axis1 = tf.reduce_sum(tensor, axis=1) # [3, 7]\n",
        "\n",
        "#Mean\n",
        "mean_all = tf.reduce_mean(tensor)         # 2.5\n",
        "mean_axis0 = tf.reduce_mean(tensor,axis=0)# [2 3]\n",
        "mean_axis1 = tf.reduce_mean(tensor,axis=1)# [1 3]\n",
        "\n",
        "#Maximum\n",
        "max_all = tf.reduce_max(tensor)           # 4\n",
        "max_axis0 = tf.reduce_max(tensor,axis=0)  # [3 4]\n",
        "max_axis1 = tf.reduce_max(tensor,axis=1)  # [2 4]\n",
        "\n",
        "#Minimum\n",
        "min_all = tf.reduce_min(tensor)           # 1\n",
        "min_axis0 = tf.reduce_min(tensor,axis=0)  # [1 2]\n",
        "min_axis1 = tf.reduce_min(tensor,axis=1)  # [1 3]"
      ],
      "metadata": {
        "id": "8Ctsgw0vgyLW"
      },
      "execution_count": null,
      "outputs": []
    },
    {
      "cell_type": "markdown",
      "source": [
        "###Concatenating n Stacking"
      ],
      "metadata": {
        "id": "8qeUBrvWj2UD"
      }
    },
    {
      "cell_type": "code",
      "source": [
        "tensor1 = tf.constant([[1, 2], [3, 4]])\n",
        "tensor2 = tf.constant([[5, 6], [7, 8]])\n",
        "\n",
        "# Concatenate along axis 0\n",
        "concat_axis0 = tf.concat([tensor1, tensor2], axis=0)\n",
        "print(\"Concatenated along axis 0:\\n\", concat_axis0.numpy())\n",
        "\n",
        "# Concatenate along axis 1\n",
        "concat_axis1 = tf.concat([tensor1, tensor2], axis=1)\n",
        "print(\"Concatenated along axis 1:\\n\", concat_axis1.numpy())\n",
        "\n",
        "# Stack tensors along a new axis\n",
        "stacked = tf.stack([tensor1, tensor2], axis=0)\n",
        "print(\"Stacked Tensor:\\n\", stacked.numpy())\n",
        "print(\"Stacked Shape:\", stacked.shape)  # (2, 2, 2)"
      ],
      "metadata": {
        "colab": {
          "base_uri": "https://localhost:8080/"
        },
        "id": "ROBdFsRniO5-",
        "outputId": "3db5e79c-dd05-4312-cf1a-83bff5d8dd33"
      },
      "execution_count": null,
      "outputs": [
        {
          "output_type": "stream",
          "name": "stdout",
          "text": [
            "Concatenated along axis 0:\n",
            " [[1 2]\n",
            " [3 4]\n",
            " [5 6]\n",
            " [7 8]]\n",
            "Concatenated along axis 1:\n",
            " [[1 2 5 6]\n",
            " [3 4 7 8]]\n",
            "Stacked Tensor:\n",
            " [[[1 2]\n",
            "  [3 4]]\n",
            "\n",
            " [[5 6]\n",
            "  [7 8]]]\n",
            "Stacked Shape: (2, 2, 2)\n"
          ]
        }
      ]
    },
    {
      "cell_type": "markdown",
      "source": [
        "###Advanced Operations"
      ],
      "metadata": {
        "id": "eSYsRZpSlpRx"
      }
    },
    {
      "cell_type": "markdown",
      "source": [
        "One-Hot Encoding (tf.one_hot):"
      ],
      "metadata": {
        "id": "9InYafbol1mQ"
      }
    },
    {
      "cell_type": "code",
      "source": [
        "indices = tf.constant([0, 1, 2, 1])\n",
        "depth = 3\n",
        "one_hot = tf.one_hot(indices, depth)\n",
        "print(\"One-Hot Encoded Tensor:\\n\", one_hot.numpy())"
      ],
      "metadata": {
        "colab": {
          "base_uri": "https://localhost:8080/"
        },
        "id": "05JIvWsfj-3N",
        "outputId": "197949f9-56ef-4e83-b023-9f59368292cb"
      },
      "execution_count": null,
      "outputs": [
        {
          "output_type": "stream",
          "name": "stdout",
          "text": [
            "One-Hot Encoded Tensor:\n",
            " [[1. 0. 0.]\n",
            " [0. 1. 0.]\n",
            " [0. 0. 1.]\n",
            " [0. 1. 0.]]\n"
          ]
        }
      ]
    },
    {
      "cell_type": "markdown",
      "source": [
        "Matrix Inversion (tf.linalg.inv):"
      ],
      "metadata": {
        "id": "-0wGn-zll3fH"
      }
    },
    {
      "cell_type": "code",
      "source": [
        "matrix = tf.constant([[1., 2.], [3., 4.]])\n",
        "inverse = tf.linalg.inv(matrix)\n",
        "print(\"Inverse of Matrix:\\n\", inverse.numpy())"
      ],
      "metadata": {
        "colab": {
          "base_uri": "https://localhost:8080/"
        },
        "id": "uBZk_JHBlxrP",
        "outputId": "9da87527-680d-48e0-a84c-51b8368624aa"
      },
      "execution_count": null,
      "outputs": [
        {
          "output_type": "stream",
          "name": "stdout",
          "text": [
            "Inverse of Matrix:\n",
            " [[-2.0000002   1.0000001 ]\n",
            " [ 1.5000001  -0.50000006]]\n"
          ]
        }
      ]
    },
    {
      "cell_type": "markdown",
      "source": [
        "Eigenvalues and Eigenvectors (tf.linalg.eig):"
      ],
      "metadata": {
        "id": "MTVKRmH3mDho"
      }
    },
    {
      "cell_type": "code",
      "source": [
        "matrix = tf.constant([[1., 2.], [3., 4.]])\n",
        "eigenvalues, eigenvectors = tf.linalg.eig(matrix)\n",
        "print(\"Eigenvalues:\", eigenvalues.numpy())\n",
        "print(\"Eigenvectors:\\n\", eigenvectors.numpy())"
      ],
      "metadata": {
        "colab": {
          "base_uri": "https://localhost:8080/"
        },
        "id": "U3ezwFknmAby",
        "outputId": "3d49b82c-fc20-458b-b8b5-2e15dd054a35"
      },
      "execution_count": null,
      "outputs": [
        {
          "output_type": "stream",
          "name": "stdout",
          "text": [
            "Eigenvalues: [-0.37228122+0.j  5.372281  +0.j]\n",
            "Eigenvectors:\n",
            " [[-0.8245648 +0.j -0.41597357+0.j]\n",
            " [ 0.56576747+0.j -0.90937674+0.j]]\n"
          ]
        }
      ]
    },
    {
      "cell_type": "markdown",
      "source": [
        "##Computational Graphs"
      ],
      "metadata": {
        "id": "_h9l2IO3mM3m"
      }
    },
    {
      "cell_type": "markdown",
      "source": [
        "###Static Computational Graphs"
      ],
      "metadata": {
        "id": "1T77XvFr1gVg"
      }
    },
    {
      "cell_type": "code",
      "source": [],
      "metadata": {
        "id": "sZbWDVYQs4y8"
      },
      "execution_count": null,
      "outputs": []
    }
  ]
}